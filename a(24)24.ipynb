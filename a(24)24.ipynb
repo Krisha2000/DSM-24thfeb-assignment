{
 "cells": [
  {
   "cell_type": "markdown",
   "id": "7254b1c0-a9ae-41e2-8bdc-0e3c00c566d3",
   "metadata": {},
   "source": [
    "# Quetion : 1"
   ]
  },
  {
   "cell_type": "markdown",
   "id": "2db5a6e6-c6c4-469c-98e2-f03ff5c89b2c",
   "metadata": {},
   "source": [
    "read_csv() function: This function is used to read CSV files and return a DataFrame object.\n",
    "\n",
    "groupby() function: This function is used to group data based on one or more columns, and then perform calculations on the grouped data.\n",
    "\n",
    "fillna() function: This function is used to fill missing values in a DataFrame with a specified value or method.\n",
    "\n",
    "merge() function: This function is used to merge two DataFrames into a single DataFrame based on a common column.\n",
    "\n",
    "pivot_table() function: This function is used to create a pivot table from a DataFrame."
   ]
  },
  {
   "cell_type": "markdown",
   "id": "c535d67d-7d48-402f-9bc1-004741c48e55",
   "metadata": {},
   "source": [
    "# Quetion : 2"
   ]
  },
  {
   "cell_type": "code",
   "execution_count": 1,
   "id": "70375ba5-1997-4d9e-b4e8-0f3ee0230329",
   "metadata": {},
   "outputs": [],
   "source": [
    "import pandas as pd"
   ]
  },
  {
   "cell_type": "code",
   "execution_count": 2,
   "id": "6c9ac9ec-be38-46a9-82a2-c8dae7ba7f6f",
   "metadata": {},
   "outputs": [
    {
     "name": "stdout",
     "output_type": "stream",
     "text": [
      "   A  B   C\n",
      "0  1  5   9\n",
      "1  2  6  10\n",
      "2  3  7  11\n",
      "3  4  8  12\n",
      "reindexed\n",
      "     A    B     C\n",
      "1  2.0  6.0  10.0\n",
      "3  4.0  8.0  12.0\n",
      "5  NaN  NaN   NaN\n",
      "7  NaN  NaN   NaN\n"
     ]
    }
   ],
   "source": [
    "df=pd.DataFrame({'A':[1,2,3,4],'B':[5,6,7,8],'C':[9,10,11,12]})\n",
    "new_index=pd.RangeIndex(start=1, step=2, stop=len(df)*2+1)\n",
    "df1=df.reindex(new_index)\n",
    "print(df)\n",
    "print(\"reindexed\")\n",
    "print(df1)"
   ]
  },
  {
   "cell_type": "markdown",
   "id": "d137a0a5-dc42-4efb-b2eb-b8d2610a04c7",
   "metadata": {},
   "source": [
    "# Quetion : 3"
   ]
  },
  {
   "cell_type": "code",
   "execution_count": 3,
   "id": "2de010ec-4582-4d64-9871-03004bd1b196",
   "metadata": {},
   "outputs": [
    {
     "name": "stdout",
     "output_type": "stream",
     "text": [
      "The sum of the first three values in the 'Values' column is: 60\n"
     ]
    }
   ],
   "source": [
    "def sum_first_three(df):\n",
    "    total = 0\n",
    "    for i in range(3):\n",
    "        total += df.loc[i, 'Values']\n",
    "    print(f\"The sum of the first three values in the 'Values' column is: {total}\")\n",
    "df = pd.DataFrame({'Values': [10, 20, 30, 40, 50]})\n",
    "sum_first_three(df)"
   ]
  },
  {
   "cell_type": "markdown",
   "id": "aea5cfe0-fe9d-4683-a50a-98839a37205f",
   "metadata": {},
   "source": [
    "# Quetion : 4"
   ]
  },
  {
   "cell_type": "code",
   "execution_count": 4,
   "id": "f64c5453-c328-4edb-9a84-345b3eb05dc0",
   "metadata": {},
   "outputs": [
    {
     "name": "stdout",
     "output_type": "stream",
     "text": [
      "                             Text  word_count\n",
      "0  This is a sample text in table           7\n",
      "1     This is another sample text           5\n"
     ]
    }
   ],
   "source": [
    "def add_word_count(df):\n",
    "    df['word_count'] = df['Text'].apply(lambda x : len(str(x).split()))\n",
    "    return df\n",
    "df = pd.DataFrame({'Text': ['This is a sample text in table', 'This is another sample text']})\n",
    "df_with_word_count = add_word_count(df)\n",
    "print(df_with_word_count)"
   ]
  },
  {
   "cell_type": "markdown",
   "id": "c7568728-5118-4cdf-b7d8-d510b153bdea",
   "metadata": {},
   "source": [
    "# Queton : 5"
   ]
  },
  {
   "cell_type": "markdown",
   "id": "ffff81c1-edf1-483c-842f-35c91acb5a8c",
   "metadata": {},
   "source": [
    "The DataFrame.size() method returns the total number of elements in the DataFrame, i.e., the product of the number of rows and the number of columns. It returns a single integer value.\n",
    "\n",
    "On the other hand, the DataFrame.shape() method returns a tuple that contains the number of rows and the number of columns of the DataFrame, respectively. It returns a tuple of integers."
   ]
  },
  {
   "cell_type": "markdown",
   "id": "c37f7072-2980-4ca9-85e5-39be105d54b4",
   "metadata": {},
   "source": [
    "# Quetion : 6"
   ]
  },
  {
   "cell_type": "markdown",
   "id": "bad342ef-7e21-4924-ad67-31bd082b3303",
   "metadata": {},
   "source": [
    "The function in pandas that we use to read an Excel file is pandas.read_excel()"
   ]
  },
  {
   "cell_type": "markdown",
   "id": "dc3feb07-3377-45f5-9cd3-41a9f901a9f0",
   "metadata": {},
   "source": [
    "# Quetion : 7"
   ]
  },
  {
   "cell_type": "code",
   "execution_count": 5,
   "id": "a7e6a0b2-a5fc-47f8-9b87-be5d20a30187",
   "metadata": {},
   "outputs": [
    {
     "data": {
      "text/html": [
       "<div>\n",
       "<style scoped>\n",
       "    .dataframe tbody tr th:only-of-type {\n",
       "        vertical-align: middle;\n",
       "    }\n",
       "\n",
       "    .dataframe tbody tr th {\n",
       "        vertical-align: top;\n",
       "    }\n",
       "\n",
       "    .dataframe thead th {\n",
       "        text-align: right;\n",
       "    }\n",
       "</style>\n",
       "<table border=\"1\" class=\"dataframe\">\n",
       "  <thead>\n",
       "    <tr style=\"text-align: right;\">\n",
       "      <th></th>\n",
       "      <th>Email</th>\n",
       "      <th>Username</th>\n",
       "    </tr>\n",
       "  </thead>\n",
       "  <tbody>\n",
       "    <tr>\n",
       "      <th>0</th>\n",
       "      <td>krish@gmail.com</td>\n",
       "      <td>krish</td>\n",
       "    </tr>\n",
       "    <tr>\n",
       "      <th>1</th>\n",
       "      <td>kiran@gmail.com</td>\n",
       "      <td>kiran</td>\n",
       "    </tr>\n",
       "    <tr>\n",
       "      <th>2</th>\n",
       "      <td>amit@gmail.com</td>\n",
       "      <td>amit</td>\n",
       "    </tr>\n",
       "  </tbody>\n",
       "</table>\n",
       "</div>"
      ],
      "text/plain": [
       "             Email Username\n",
       "0  krish@gmail.com    krish\n",
       "1  kiran@gmail.com    kiran\n",
       "2   amit@gmail.com     amit"
      ]
     },
     "execution_count": 5,
     "metadata": {},
     "output_type": "execute_result"
    }
   ],
   "source": [
    "def username(df):\n",
    "    df['Username'] = df['Email'].apply(lambda x : (str(x).rsplit('@')[0])) \n",
    "    return df\n",
    "df=pd.DataFrame({'Email':['krish@gmail.com','kiran@gmail.com','amit@gmail.com']}) \n",
    "username(df)"
   ]
  },
  {
   "cell_type": "markdown",
   "id": "d7861c34-5b25-4b59-92b7-2730f77e7be4",
   "metadata": {},
   "source": [
    "# Quetion ; 8"
   ]
  },
  {
   "cell_type": "code",
   "execution_count": 6,
   "id": "e3d3eb33-8a9e-4580-b764-af3ff4899800",
   "metadata": {},
   "outputs": [
    {
     "name": "stdout",
     "output_type": "stream",
     "text": [
      "   A  B  C\n",
      "2  6  8  c\n",
      "3  7  9  d\n"
     ]
    }
   ],
   "source": [
    "def select_rows(df):\n",
    "    selected_rows = df[(df['A'] > 5) & (df['B'] < 10)]\n",
    "    return selected_rows\n",
    "\n",
    "df = pd.DataFrame({'A': [1, 2, 6, 7], 'B': [4, 5, 8, 9], 'C': ['a', 'b', 'c', 'd']})\n",
    "selected_df = select_rows(df)\n",
    "print(selected_df)\n",
    "\n",
    "    "
   ]
  },
  {
   "cell_type": "markdown",
   "id": "533bb296-46d5-478e-9fea-7bcb1e76871f",
   "metadata": {},
   "source": [
    "# Quetion : 9"
   ]
  },
  {
   "cell_type": "code",
   "execution_count": 8,
   "id": "95260cf9-3385-4f64-ba29-cdc190f8448c",
   "metadata": {},
   "outputs": [
    {
     "name": "stdout",
     "output_type": "stream",
     "text": [
      "Mean: 3.0\n",
      "Median: 3.0\n",
      "Standard Deviation: 1.5811388300841898\n"
     ]
    }
   ],
   "source": [
    "def calculate_statistics(df):\n",
    "  \n",
    "    mean = df['Values'].mean()\n",
    "    median = df['Values'].median()\n",
    "    std = df['Values'].std()\n",
    "\n",
    "    return mean, median, std\n",
    "df = pd.DataFrame({'Values': [1, 2, 3, 4, 5]})\n",
    "calculate_statistics(df)\n",
    "\n",
    "\n",
    "print('Mean:', mean)\n",
    "print('Median:', median)\n",
    "print('Standard Deviation:', std)"
   ]
  },
  {
   "cell_type": "markdown",
   "id": "ef00a9a2-14ba-40d6-a71d-46a94a7b4bba",
   "metadata": {},
   "source": [
    "# Quetion : 10"
   ]
  },
  {
   "cell_type": "code",
   "execution_count": 14,
   "id": "13c1b5ff-4582-4a72-86d0-e7da33a4ff88",
   "metadata": {},
   "outputs": [
    {
     "name": "stdout",
     "output_type": "stream",
     "text": [
      "        Date  Sales  Moving Average\n",
      "0 2022-01-01     10       10.000000\n",
      "1 2022-01-02     15       12.500000\n",
      "2 2022-01-03     20       15.000000\n",
      "3 2022-01-04     18       15.750000\n",
      "4 2022-01-05     25       17.600000\n",
      "5 2022-01-06     30       19.666667\n",
      "6 2022-01-07     22       20.000000\n",
      "7 2022-01-08     27       22.428571\n",
      "8 2022-01-09     35       25.285714\n",
      "9 2022-01-10     40       28.142857\n"
     ]
    }
   ],
   "source": [
    "def moving_average(df):\n",
    "    df=df.sort_values('Date')\n",
    "    ma=df['Sales'].rolling(window=7,min_periods=1).mean()\n",
    "    df['Moving Average']=ma\n",
    "    return df\n",
    "dates = pd.date_range('2022-01-01', periods=10)\n",
    "df = pd.DataFrame({'Date': dates, 'Sales': [10, 15, 20, 18, 25, 30, 22, 27, 35, 40]})\n",
    "df_ma = moving_average(df)\n",
    "print(df_ma)\n"
   ]
  },
  {
   "cell_type": "markdown",
   "id": "0c0f6279-f890-48cc-8534-29f9d81da8bb",
   "metadata": {},
   "source": [
    "# Quetion : 11"
   ]
  },
  {
   "cell_type": "code",
   "execution_count": 7,
   "id": "b4117f39-7697-4187-b6db-7f65b4dfc89b",
   "metadata": {},
   "outputs": [],
   "source": [
    "\n"
   ]
  },
  {
   "cell_type": "markdown",
   "id": "f763d5e8-ad6d-43e6-8a12-1fe9df4a89b0",
   "metadata": {},
   "source": [
    "# Quetion : 12"
   ]
  },
  {
   "cell_type": "code",
   "execution_count": 1,
   "id": "3eec9ae7-f4e0-4ecb-8958-d73c07d47b8a",
   "metadata": {},
   "outputs": [],
   "source": [
    "import pandas as pd\n",
    "\n",
    "def select_rows_between_dates(df):\n",
    "    start_date = '2023-01-01'\n",
    "    end_date = '2023-01-31'\n",
    "    mask = (df['Date'] >= start_date) & (df['Date'] <= end_date)\n",
    "    return df.loc[mask]"
   ]
  },
  {
   "cell_type": "markdown",
   "id": "a2de7a1b-06f4-4175-89f0-9c882eaebc48",
   "metadata": {},
   "source": [
    "# Quetion : 13"
   ]
  },
  {
   "cell_type": "markdown",
   "id": "4f1a1bd2-bd55-4036-b75b-b098b1941aad",
   "metadata": {},
   "source": [
    "When you get introduced to machine learning, the first step is to learn Python and the basic step of learning Python is to learn pandas library. We can install pandas library by pip install pandas. After installing we have to import pandas each time of the running session"
   ]
  },
  {
   "cell_type": "code",
   "execution_count": null,
   "id": "a272b1f1-aac4-426f-972e-b50903eec455",
   "metadata": {},
   "outputs": [],
   "source": []
  }
 ],
 "metadata": {
  "kernelspec": {
   "display_name": "Python 3 (ipykernel)",
   "language": "python",
   "name": "python3"
  },
  "language_info": {
   "codemirror_mode": {
    "name": "ipython",
    "version": 3
   },
   "file_extension": ".py",
   "mimetype": "text/x-python",
   "name": "python",
   "nbconvert_exporter": "python",
   "pygments_lexer": "ipython3",
   "version": "3.10.8"
  }
 },
 "nbformat": 4,
 "nbformat_minor": 5
}
